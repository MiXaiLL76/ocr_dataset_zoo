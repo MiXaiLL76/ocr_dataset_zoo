{
 "cells": [
  {
   "cell_type": "code",
   "execution_count": null,
   "metadata": {},
   "outputs": [],
   "source": [
    "import pathlib\n",
    "import pandas as pd\n",
    "from PIL import Image\n",
    "from tqdm import tqdm\n",
    "from datasets import Dataset, DatasetDict, Features, Value, Image as ImageFeature"
   ]
  },
  {
   "cell_type": "code",
   "execution_count": 2,
   "metadata": {},
   "outputs": [],
   "source": [
    "IMAGE_FOLDER = \"./7_seg_dataset\""
   ]
  },
  {
   "cell_type": "code",
   "execution_count": 3,
   "metadata": {},
   "outputs": [],
   "source": [
    "assert (\n",
    "    pathlib.Path(IMAGE_FOLDER) / \"ann_file.jsonl\"\n",
    ").exists(), \"Please generate the data first.\""
   ]
  },
  {
   "cell_type": "code",
   "execution_count": 4,
   "metadata": {},
   "outputs": [],
   "source": [
    "def disclose_data(df: pd.DataFrame, image_folder: str) -> pd.DataFrame:\n",
    "    metadata = []\n",
    "\n",
    "    for _, row in tqdm(df.iterrows(), total=len(df)):\n",
    "        with Image.open(pathlib.Path(image_folder) / row[\"filename\"]) as image:\n",
    "            for ann in row[\"annotations\"]:\n",
    "                x, y, w, h = ann[\"bbox\"]\n",
    "                text = ann[\"text\"]\n",
    "\n",
    "                if text.strip() == \"\":\n",
    "                    continue\n",
    "\n",
    "                metadata.append(\n",
    "                    {\n",
    "                        \"image\": ImageFeature().encode_example(\n",
    "                            image.crop((x, y, x + w, y + h))\n",
    "                        ),\n",
    "                        \"text\": Value(\"string\").encode_example(text),\n",
    "                    }\n",
    "                )\n",
    "\n",
    "    return pd.DataFrame(metadata)"
   ]
  },
  {
   "cell_type": "code",
   "execution_count": null,
   "metadata": {},
   "outputs": [],
   "source": [
    "train_dataframe = pd.read_json(\n",
    "    pathlib.Path(IMAGE_FOLDER) / \"ann_file.jsonl\", lines=True\n",
    ")\n",
    "train_dataset = disclose_data(train_dataframe, IMAGE_FOLDER)"
   ]
  },
  {
   "cell_type": "code",
   "execution_count": 6,
   "metadata": {},
   "outputs": [],
   "source": [
    "features = Features({\"image\": ImageFeature(), \"text\": Value(\"string\")})\n",
    "\n",
    "hf_dataset = DatasetDict(\n",
    "    {\n",
    "        \"train\": Dataset.from_pandas(\n",
    "            train_dataset[[\"image\", \"text\"]], preserve_index=False, features=features\n",
    "        ),\n",
    "    }\n",
    ")"
   ]
  },
  {
   "cell_type": "code",
   "execution_count": null,
   "metadata": {},
   "outputs": [],
   "source": [
    "hf_dataset"
   ]
  },
  {
   "cell_type": "code",
   "execution_count": null,
   "metadata": {},
   "outputs": [],
   "source": [
    "hf_dataset.push_to_hub(\"MiXaiLL76/7SEG_OCR\")"
   ]
  }
 ],
 "metadata": {
  "kernelspec": {
   "display_name": "Python 3",
   "language": "python",
   "name": "python3"
  },
  "language_info": {
   "codemirror_mode": {
    "name": "ipython",
    "version": 3
   },
   "file_extension": ".py",
   "mimetype": "text/x-python",
   "name": "python",
   "nbconvert_exporter": "python",
   "pygments_lexer": "ipython3",
   "version": "3.10.12"
  }
 },
 "nbformat": 4,
 "nbformat_minor": 2
}
