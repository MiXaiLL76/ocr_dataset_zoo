{
 "cells": [
  {
   "cell_type": "code",
   "execution_count": 1,
   "metadata": {},
   "outputs": [],
   "source": [
    "import pathlib\n",
    "import pandas as pd\n",
    "from PIL import Image\n",
    "from tqdm import tqdm\n",
    "from datasets import Dataset, DatasetDict, Features, Value, Image as ImageFeature"
   ]
  },
  {
   "cell_type": "code",
   "execution_count": 2,
   "metadata": {},
   "outputs": [],
   "source": [
    "TRAIN_IMAGE_FOLDER = \"./train\"\n",
    "TEST_IMAGE_FOLDER = \"./test\""
   ]
  },
  {
   "cell_type": "code",
   "execution_count": 3,
   "metadata": {},
   "outputs": [],
   "source": [
    "assert (pathlib.Path(TRAIN_IMAGE_FOLDER) / \"ann_file.jsonl\").exists(), \"Please generate the data first.\"\n",
    "assert (pathlib.Path(TEST_IMAGE_FOLDER) / \"ann_file.jsonl\").exists(), \"Please generate the data first.\""
   ]
  },
  {
   "cell_type": "code",
   "execution_count": 4,
   "metadata": {},
   "outputs": [],
   "source": [
    "symbols = set([\",\", \".\", \";\", \":\"])\n",
    "digits = set([\"0\", \"1\", \"2\", \"3\", \"4\", \"5\", \"6\", \"7\", \"8\", \"9\"])\n",
    "vocab = set(list(symbols) + list(digits))\n",
    "\n",
    "\n",
    "def isdigit(char):\n",
    "    return char in vocab\n",
    "\n",
    "\n",
    "def disclose_data(df: pd.DataFrame, image_folder: str) -> pd.DataFrame:\n",
    "    metadata = []\n",
    "\n",
    "    for _, row in tqdm(df.iterrows(), total=len(df)):\n",
    "        image = None\n",
    "\n",
    "        for ann in row[\"annotations\"]:\n",
    "            x, y, w, h = ann[\"bbox\"]\n",
    "            text = ann[\"text\"]\n",
    "\n",
    "            if text.strip() == \"\":\n",
    "                continue\n",
    "\n",
    "            numbers_only = all([isdigit(char) for char in text])\n",
    "\n",
    "            if image is None:\n",
    "                image = Image.open(pathlib.Path(image_folder) / row[\"filename\"])\n",
    "\n",
    "            metadata.append(\n",
    "                {\n",
    "                    \"image\": ImageFeature().encode_example(\n",
    "                        image.crop((x, y, x + w, y + h)).copy()\n",
    "                    ),\n",
    "                    \"text\": Value(\"string\").encode_example(text),\n",
    "                    \"numbers_only\": numbers_only,\n",
    "                }\n",
    "            )\n",
    "\n",
    "    return pd.DataFrame(metadata)"
   ]
  },
  {
   "cell_type": "code",
   "execution_count": null,
   "metadata": {},
   "outputs": [],
   "source": [
    "train_dataframe = pd.read_json(pathlib.Path(TRAIN_IMAGE_FOLDER) / \"ann_file.jsonl\", lines=True)\n",
    "train_dataset = disclose_data(train_dataframe, TRAIN_IMAGE_FOLDER)"
   ]
  },
  {
   "cell_type": "code",
   "execution_count": null,
   "metadata": {},
   "outputs": [],
   "source": [
    "test_dataframe = pd.read_json(pathlib.Path(TEST_IMAGE_FOLDER) / \"ann_file.jsonl\", lines=True)\n",
    "test_dataset = disclose_data(test_dataframe, TEST_IMAGE_FOLDER)"
   ]
  },
  {
   "cell_type": "code",
   "execution_count": 9,
   "metadata": {},
   "outputs": [],
   "source": [
    "features=Features({\"image\" : ImageFeature(), \"text\" : Value(\"string\")})\n",
    "\n",
    "hf_dataset = DatasetDict({\n",
    "    \"train\": Dataset.from_pandas(train_dataset[[\"image\", \"text\"]], preserve_index=False, features=features),\n",
    "    \"test\": Dataset.from_pandas(test_dataset[[\"image\", \"text\"]], preserve_index=False, features=features),\n",
    "})"
   ]
  },
  {
   "cell_type": "code",
   "execution_count": null,
   "metadata": {},
   "outputs": [],
   "source": [
    "hf_dataset.push_to_hub(\"MiXaiLL76/SVHN_OCR\")"
   ]
  }
 ],
 "metadata": {
  "kernelspec": {
   "display_name": "Python 3",
   "language": "python",
   "name": "python3"
  },
  "language_info": {
   "codemirror_mode": {
    "name": "ipython",
    "version": 3
   },
   "file_extension": ".py",
   "mimetype": "text/x-python",
   "name": "python",
   "nbconvert_exporter": "python",
   "pygments_lexer": "ipython3",
   "version": "3.10.12"
  }
 },
 "nbformat": 4,
 "nbformat_minor": 2
}
